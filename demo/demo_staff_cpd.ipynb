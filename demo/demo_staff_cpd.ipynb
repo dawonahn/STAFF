{
 "cells": [
  {
   "cell_type": "markdown",
   "metadata": {},
   "source": [
    "# STAFF - CPD"
   ]
  },
  {
   "cell_type": "code",
   "execution_count": 1,
   "metadata": {},
   "outputs": [],
   "source": [
    "import sys\n",
    "sys.path.append('../src')\n",
    "from read import *\n",
    "from model import *\n",
    "from train import *\n",
    "from metric import *\n",
    "device = 'cuda:0'"
   ]
  },
  {
   "cell_type": "markdown",
   "metadata": {},
   "source": [
    "### 1. Configuration of data, model, and augmentation."
   ]
  },
  {
   "cell_type": "code",
   "execution_count": 2,
   "metadata": {},
   "outputs": [
    {
     "name": "stdout",
     "output_type": "stream",
     "text": [
      "***********************************************************************************\n",
      "[1] Read lastfm_time self...\n",
      "[2] Read metadata...\n",
      "[3] No normalization; values are already binary...\n",
      "[4] Split the tensor into training/validation/test\n",
      " [4 - 1] Sparsify the minority group to make it more unfair\n",
      "[5] Make statistics of group information\n",
      "[6] Change the date type into torch\n",
      "[7] Read lastfm_time tensor done...!\n",
      "Tensor      || ['user', 'artist', 'time']; value\n",
      "NNZ         || [861, 3066, 1586]; 76727 | 14311 | 14311\n",
      "Sens. Attr  || user, gender: maj(['M']) min(['F'])\n",
      "Entity      || Majority: 493 Minority: 368\n",
      "NNZ         || Majority: [74740] Minority: [1987]\n",
      "***********************************************************************************\n"
     ]
    }
   ],
   "source": [
    "data = 'lastfm_time'\n",
    "data_path = '../data'\n",
    "\n",
    "cfg = DotMap()\n",
    "cfg.name = data\n",
    "cfg.dpath = data_path\n",
    "cfg.opath = '../output'\n",
    "cfg.unfair = 0.05\n",
    "cfg.bs = 1024\n",
    "cfg.random = 1\n",
    "cfg.device = device\n",
    "tensor = TensorDataset(cfg=cfg, path=cfg.dpath, name=cfg.name)\n",
    "cfg.sizes = tensor.sizes"
   ]
  },
  {
   "cell_type": "markdown",
   "metadata": {},
   "source": [
    "### 2. Configuration of augmentation."
   ]
  },
  {
   "cell_type": "code",
   "execution_count": 3,
   "metadata": {},
   "outputs": [],
   "source": [
    "cfg.rank = 10\n",
    "cfg.lr = 0.01\n",
    "cfg.wd = 0.01\n",
    "cfg.n_iters = 10000\n",
    "verbose = True"
   ]
  },
  {
   "cell_type": "code",
   "execution_count": 4,
   "metadata": {},
   "outputs": [],
   "source": [
    "cfg.tf = 'cpd'\n",
    "cfg.aug_tf = 'cpd'\n",
    "cfg.sampling = 'knn'\n",
    "cfg.aug_modes =\"0\"\n",
    "cfg.K = 3\n",
    "cfg.gamma = 0.9\n",
    "cfg.wd2 = 0.01\n",
    "cfg.aug_training = False\n",
    "tensor.load_data()\n"
   ]
  },
  {
   "cell_type": "code",
   "execution_count": 5,
   "metadata": {},
   "outputs": [
    {
     "name": "stdout",
     "output_type": "stream",
     "text": [
      "***********************************************************************************\n",
      "Augment entities with fair K-NN graph \n",
      "Augmentation for the 'user' mode \n",
      "Read a dist file from [../output/lastfm_time/sampling/0.05_cpd_0.9_3_1_dist.csv] (861, 4)\n",
      "Read a graph file from [../output/lastfm_time/sampling/0.05_cpd_0.9_3_1_graph.csv] (861, 4)\n",
      "Read a df file from [../output/lastfm_time/sampling/0.05_cpd_0.9_3_1_df.csv] (30749, 6)\n"
     ]
    }
   ],
   "source": [
    "read_augment(tensor, cfg)"
   ]
  },
  {
   "cell_type": "markdown",
   "metadata": {},
   "source": [
    "### 3. Building a model"
   ]
  },
  {
   "cell_type": "code",
   "execution_count": 6,
   "metadata": {},
   "outputs": [
    {
     "data": {
      "text/plain": [
       "CPD(\n",
       "  (factors): ParameterList(\n",
       "      (0): Parameter containing: [torch.float32 of size 1722x10 (GPU 0)]\n",
       "      (1): Parameter containing: [torch.float32 of size 3066x10 (GPU 0)]\n",
       "      (2): Parameter containing: [torch.float32 of size 1586x10 (GPU 0)]\n",
       "  )\n",
       ")"
      ]
     },
     "execution_count": 6,
     "metadata": {},
     "output_type": "execute_result"
    }
   ],
   "source": [
    "model = CPD(cfg).to(cfg.device)\n",
    "model"
   ]
  },
  {
   "cell_type": "markdown",
   "metadata": {},
   "source": [
    "### 4. Train a model"
   ]
  },
  {
   "cell_type": "code",
   "execution_count": 7,
   "metadata": {},
   "outputs": [
    {
     "name": "stdout",
     "output_type": "stream",
     "text": [
      "Iters:   1 || training loss: 14469.57295\tfair loss: 59458.50787\tTrain RMSE: 0.25727 Valid RMSE: 0.32735\t\n",
      "Iters:   2 || training loss: 6793.53444\tfair loss: 17766.80487\tTrain RMSE: 0.22351 Valid RMSE: 0.32218\t\n",
      "Iters:   3 || training loss: 5552.17830\tfair loss: 8174.27462\tTrain RMSE: 0.20616 Valid RMSE: 0.32131\t\n",
      "Iters:   4 || training loss: 4816.39394\tfair loss: 5560.39015\tTrain RMSE: 0.19114 Valid RMSE: 0.31862\t\n",
      "Iters:   5 || training loss: 4179.72478\tfair loss: 4779.35504\tTrain RMSE: 0.17673 Valid RMSE: 0.31600\t\n",
      "Iters:   6 || training loss: 3637.50501\tfair loss: 4638.69456\tTrain RMSE: 0.16446 Valid RMSE: 0.31252\t\n",
      "Iters:   7 || training loss: 3217.08371\tfair loss: 4662.86038\tTrain RMSE: 0.15443 Valid RMSE: 0.31023\t\n",
      "Iters:   8 || training loss: 2883.80267\tfair loss: 4658.60665\tTrain RMSE: 0.14652 Valid RMSE: 0.30837\t\n",
      "Iters:   9 || training loss: 2645.47212\tfair loss: 4693.80682\tTrain RMSE: 0.13995 Valid RMSE: 0.30776\t\n",
      "Iters:  10 || training loss: 2458.01136\tfair loss: 4718.02899\tTrain RMSE: 0.13477 Valid RMSE: 0.30453\t\n",
      "Iters:  11 || training loss: 2313.34223\tfair loss: 4700.65553\tTrain RMSE: 0.13036 Valid RMSE: 0.30307\t\n",
      "Iters:  12 || training loss: 2205.15736\tfair loss: 4799.17792\tTrain RMSE: 0.12740 Valid RMSE: 0.30293\t\n",
      "Iters:  13 || training loss: 2109.98507\tfair loss: 4843.78536\tTrain RMSE: 0.12502 Valid RMSE: 0.30166\t\n",
      "Iters:  14 || training loss: 2043.10170\tfair loss: 4786.50272\tTrain RMSE: 0.12195 Valid RMSE: 0.30034\t\n",
      "Iters:  15 || training loss: 1983.07191\tfair loss: 4863.06987\tTrain RMSE: 0.12071 Valid RMSE: 0.30007\t\n",
      "Iters:  16 || training loss: 1932.04030\tfair loss: 4872.96189\tTrain RMSE: 0.11934 Valid RMSE: 0.29948\t\n",
      "Iters:  17 || training loss: 1889.14657\tfair loss: 5007.16672\tTrain RMSE: 0.11783 Valid RMSE: 0.29926\t\n",
      "Iters:  18 || training loss: 1857.80993\tfair loss: 4988.79579\tTrain RMSE: 0.11676 Valid RMSE: 0.29879\t\n",
      "Iters:  19 || training loss: 1824.10313\tfair loss: 5039.56454\tTrain RMSE: 0.11516 Valid RMSE: 0.29790\t\n",
      "Iters:  20 || training loss: 1799.62171\tfair loss: 4972.73364\tTrain RMSE: 0.11473 Valid RMSE: 0.29717\t\n",
      "Iters:  21 || training loss: 1777.04812\tfair loss: 5080.57674\tTrain RMSE: 0.11409 Valid RMSE: 0.29816\t\n",
      "Iters:  22 || training loss: 1758.57247\tfair loss: 5032.17769\tTrain RMSE: 0.11316 Valid RMSE: 0.29612\t\n",
      "Iters:  23 || training loss: 1745.01017\tfair loss: 5068.40679\tTrain RMSE: 0.11317 Valid RMSE: 0.29572\t\n",
      "Iters:  24 || training loss: 1726.91299\tfair loss: 5126.04398\tTrain RMSE: 0.11200 Valid RMSE: 0.29488\t\n",
      "Iters:  25 || training loss: 1720.36644\tfair loss: 5112.09991\tTrain RMSE: 0.11204 Valid RMSE: 0.29534\t\n",
      "Iters:  26 || training loss: 1713.13486\tfair loss: 5110.57780\tTrain RMSE: 0.11118 Valid RMSE: 0.29441\t\n",
      "Iters:  27 || training loss: 1698.66723\tfair loss: 5106.80757\tTrain RMSE: 0.11096 Valid RMSE: 0.29415\t\n",
      "Iters:  28 || training loss: 1679.49156\tfair loss: 5073.93597\tTrain RMSE: 0.11071 Valid RMSE: 0.29353\t\n",
      "Iters:  29 || training loss: 1679.04579\tfair loss: 5129.71221\tTrain RMSE: 0.11049 Valid RMSE: 0.29478\t\n",
      "Iters:  30 || training loss: 1676.61019\tfair loss: 5091.83217\tTrain RMSE: 0.11042 Valid RMSE: 0.29374\t\n",
      "Iters:  31 || training loss: 1669.06373\tfair loss: 5128.58377\tTrain RMSE: 0.11018 Valid RMSE: 0.29381\t\n",
      "Iters:  32 || training loss: 1657.41788\tfair loss: 5191.40471\tTrain RMSE: 0.11060 Valid RMSE: 0.29374\t\n",
      "Iters:  33 || training loss: 1664.94647\tfair loss: 5174.08620\tTrain RMSE: 0.11025 Valid RMSE: 0.29312\t\n",
      "Iters:  34 || training loss: 1655.41917\tfair loss: 5217.86170\tTrain RMSE: 0.10991 Valid RMSE: 0.29343\t\n",
      "Iters:  35 || training loss: 1649.89696\tfair loss: 5222.78825\tTrain RMSE: 0.10960 Valid RMSE: 0.29158\t\n",
      "Iters:  36 || training loss: 1644.47765\tfair loss: 5185.89901\tTrain RMSE: 0.10924 Valid RMSE: 0.29179\t\n"
     ]
    }
   ],
   "source": [
    "trainer = Trainer(model, tensor, cfg, wandb=None)\n",
    "trainer.train()"
   ]
  },
  {
   "cell_type": "markdown",
   "metadata": {},
   "source": [
    "### 5. Evaluate fairness and accuracy of model for tensor completion"
   ]
  },
  {
   "cell_type": "code",
   "execution_count": 8,
   "metadata": {},
   "outputs": [
    {
     "name": "stdout",
     "output_type": "stream",
     "text": [
      "Test NRE: 0.3200 Test RMSE: 0.2969\n",
      "***********************************************************************************\n",
      "Calculate group fairness...\n",
      "***********************************************************************************\n",
      "MSE : 0.0882\n",
      "MAD: 0.10842 Error1 : 0.04964 Error2: 0.15806\n"
     ]
    }
   ],
   "source": [
    "res = evaluate_model(model, tensor)\n",
    "print(f\"MSE : {res['test_rmse'] * res['test_rmse']:.4f}\")\n",
    "print(f\"MAD: {abs(res['MAD_Error']):.5f} Error1 : {res['Group0_Error']:.5f} Error2: {res['Group1_Error']:.5f}\")"
   ]
  },
  {
   "cell_type": "code",
   "execution_count": null,
   "metadata": {},
   "outputs": [],
   "source": []
  }
 ],
 "metadata": {
  "kernelspec": {
   "display_name": "tensor",
   "language": "python",
   "name": "python3"
  },
  "language_info": {
   "codemirror_mode": {
    "name": "ipython",
    "version": 3
   },
   "file_extension": ".py",
   "mimetype": "text/x-python",
   "name": "python",
   "nbconvert_exporter": "python",
   "pygments_lexer": "ipython3",
   "version": "3.9.19"
  }
 },
 "nbformat": 4,
 "nbformat_minor": 2
}
