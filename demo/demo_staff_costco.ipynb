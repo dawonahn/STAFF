{
 "cells": [
  {
   "cell_type": "markdown",
   "metadata": {},
   "source": [
    "# STAFF - CoSTCo"
   ]
  },
  {
   "cell_type": "code",
   "execution_count": 1,
   "metadata": {},
   "outputs": [],
   "source": [
    "import sys\n",
    "sys.path.append('../src')\n",
    "from read import *\n",
    "from model import *\n",
    "from train import *\n",
    "from metric import *\n",
    "device = 'cuda:0'"
   ]
  },
  {
   "cell_type": "markdown",
   "metadata": {},
   "source": [
    "### 1. Configuration of data, model, and augmentation."
   ]
  },
  {
   "cell_type": "code",
   "execution_count": 2,
   "metadata": {},
   "outputs": [
    {
     "name": "stdout",
     "output_type": "stream",
     "text": [
      "***********************************************************************************\n",
      "[1] Read lastfm_time self...\n",
      "[2] Read metadata...\n",
      "[3] No normalization; values are already binary...\n",
      "[4] Split the tensor into training/validation/test\n",
      " [4 - 1] Sparsify the minority group to make it more unfair\n",
      "[5] Make statistics of group information\n",
      "[6] Change the date type into torch\n",
      "[7] Read lastfm_time tensor done...!\n",
      "Tensor      || ['user', 'artist', 'time']; value\n",
      "NNZ         || [861, 3066, 1586]; 76727 | 14311 | 14311\n",
      "Sens. Attr  || user, gender: maj(['M']) min(['F'])\n",
      "Entity      || Majority: 493 Minority: 368\n",
      "NNZ         || Majority: [74740] Minority: [1987]\n",
      "***********************************************************************************\n"
     ]
    }
   ],
   "source": [
    "data = 'lastfm_time'\n",
    "data_path = '../data'\n",
    "\n",
    "cfg = DotMap()\n",
    "cfg.name = data\n",
    "cfg.dpath = data_path\n",
    "cfg.opath = '../output'\n",
    "cfg.unfair = 0.05\n",
    "cfg.bs = 1024\n",
    "cfg.random = 1\n",
    "cfg.device = device\n",
    "tensor = TensorDataset(cfg=cfg, path=cfg.dpath, name=cfg.name)\n",
    "cfg.sizes = tensor.sizes"
   ]
  },
  {
   "cell_type": "markdown",
   "metadata": {},
   "source": [
    "### 2. Configuration of augmentation."
   ]
  },
  {
   "cell_type": "code",
   "execution_count": 3,
   "metadata": {},
   "outputs": [],
   "source": [
    "cfg.rank = 10\n",
    "cfg.lr = 0.001\n",
    "cfg.wd = 0.001\n",
    "cfg.n_iters = 10000\n",
    "verbose = True"
   ]
  },
  {
   "cell_type": "code",
   "execution_count": 4,
   "metadata": {},
   "outputs": [],
   "source": [
    "cfg.nc = 64\n",
    "cfg.tf = 'costco'\n",
    "cfg.aug_tf = 'costco'\n",
    "cfg.sampling = 'knn'\n",
    "cfg.aug_modes =\"0\"\n",
    "cfg.K = 3\n",
    "cfg.gamma = 0.9\n",
    "cfg.wd2 = 0.01\n",
    "cfg.aug_training = True\n",
    "tensor.load_data()"
   ]
  },
  {
   "cell_type": "code",
   "execution_count": 5,
   "metadata": {},
   "outputs": [
    {
     "name": "stdout",
     "output_type": "stream",
     "text": [
      "***********************************************************************************\n",
      "Augment entities with fair K-NN graph \n",
      "Augmentation for the 'user' mode \n",
      "Save file as [../output/lastfm_time/sampling/0.05_costco_0.9_3_1_dist.csv]\n",
      "Save file as [../output/lastfm_time/sampling/0.05_costco_0.9_3_1_graph.csv]\n",
      "Save file as [../output/lastfm_time/sampling/0.05_costco_0.9_3_1_df.csv]\n"
     ]
    }
   ],
   "source": [
    "read_augment(tensor, cfg)"
   ]
  },
  {
   "cell_type": "markdown",
   "metadata": {},
   "source": [
    "### 3. Building a model"
   ]
  },
  {
   "cell_type": "code",
   "execution_count": 6,
   "metadata": {},
   "outputs": [
    {
     "data": {
      "text/plain": [
       "CoSTCo(\n",
       "  (factors): ParameterList(\n",
       "      (0): Parameter containing: [torch.float32 of size 1722x10 (GPU 0)]\n",
       "      (1): Parameter containing: [torch.float32 of size 3066x10 (GPU 0)]\n",
       "      (2): Parameter containing: [torch.float32 of size 1586x10 (GPU 0)]\n",
       "  )\n",
       "  (conv1): Conv2d(1, 64, kernel_size=(1, 3), stride=(1, 1))\n",
       "  (conv2): Conv2d(64, 64, kernel_size=(10, 1), stride=(1, 1))\n",
       "  (fc1): Linear(in_features=64, out_features=64, bias=True)\n",
       "  (fc2): Linear(in_features=64, out_features=1, bias=True)\n",
       "  (relu): ReLU()\n",
       "  (sigmoid): Sigmoid()\n",
       "  (last_act): ReLU()\n",
       ")"
      ]
     },
     "execution_count": 6,
     "metadata": {},
     "output_type": "execute_result"
    }
   ],
   "source": [
    "model = CoSTCo(cfg).to(cfg.device)\n",
    "model"
   ]
  },
  {
   "cell_type": "markdown",
   "metadata": {},
   "source": [
    "### 4. Train a model"
   ]
  },
  {
   "cell_type": "code",
   "execution_count": 7,
   "metadata": {},
   "outputs": [
    {
     "name": "stdout",
     "output_type": "stream",
     "text": [
      "Iters:   1 || training loss: 14.24993\tfair loss: 277010.84058\tTrain RMSE: 0.33100 Valid RMSE: 0.34379\t\n",
      "Iters:   2 || training loss: 11.41565\tfair loss: 159649.60327\tTrain RMSE: 0.32834 Valid RMSE: 0.34139\t\n",
      "Iters:   3 || training loss: 11.23882\tfair loss: 91306.07678\tTrain RMSE: 0.32526 Valid RMSE: 0.33872\t\n",
      "Iters:   4 || training loss: 10.96116\tfair loss: 51359.21594\tTrain RMSE: 0.32046 Valid RMSE: 0.33442\t\n",
      "Iters:   5 || training loss: 10.54917\tfair loss: 28267.64645\tTrain RMSE: 0.31213 Valid RMSE: 0.32752\t\n",
      "Iters:   6 || training loss: 9.87865\tfair loss: 15167.12035\tTrain RMSE: 0.29734 Valid RMSE: 0.31638\t\n",
      "Iters:   7 || training loss: 8.75933\tfair loss: 7908.57309\tTrain RMSE: 0.27299 Valid RMSE: 0.30271\t\n",
      "Iters:   8 || training loss: 7.59871\tfair loss: 3995.84687\tTrain RMSE: 0.25567 Valid RMSE: 0.29722\t\n",
      "Iters:   9 || training loss: 6.96648\tfair loss: 1950.89920\tTrain RMSE: 0.24854 Valid RMSE: 0.29572\t\n",
      "Iters:  10 || training loss: 6.77588\tfair loss: 917.99455\tTrain RMSE: 0.24572 Valid RMSE: 0.29958\t\n",
      "Iters:  11 || training loss: 6.69849\tfair loss: 415.28055\tTrain RMSE: 0.24152 Valid RMSE: 0.29581\t\n",
      "Iters:  12 || training loss: 6.34326\tfair loss: 180.21734\tTrain RMSE: 0.23179 Valid RMSE: 0.29306\t\n",
      "Iters:  13 || training loss: 6.19743\tfair loss: 74.90533\tTrain RMSE: 0.22958 Valid RMSE: 0.29334\t\n",
      "Iters:  14 || training loss: 6.02536\tfair loss: 29.81669\tTrain RMSE: 0.22785 Valid RMSE: 0.29189\t\n",
      "Iters:  15 || training loss: 5.96194\tfair loss: 11.43634\tTrain RMSE: 0.23346 Valid RMSE: 0.29404\t\n",
      "Iters:  16 || training loss: 5.93852\tfair loss: 4.32502\tTrain RMSE: 0.22602 Valid RMSE: 0.29035\t\n",
      "Iters:  17 || training loss: 5.84970\tfair loss: 1.71000\tTrain RMSE: 0.22348 Valid RMSE: 0.29290\t\n",
      "Iters:  18 || training loss: 5.78375\tfair loss: 0.86040\tTrain RMSE: 0.22197 Valid RMSE: 0.29030\t\n",
      "Iters:  19 || training loss: 5.64112\tfair loss: 0.67890\tTrain RMSE: 0.22513 Valid RMSE: 0.29689\t\n",
      "Iters:  20 || training loss: 5.52446\tfair loss: 0.74202\tTrain RMSE: 0.21730 Valid RMSE: 0.28803\t\n",
      "Iters:  21 || training loss: 5.44003\tfair loss: 0.91761\tTrain RMSE: 0.21898 Valid RMSE: 0.28711\t\n",
      "Iters:  22 || training loss: 5.25998\tfair loss: 1.19321\tTrain RMSE: 0.21092 Valid RMSE: 0.28888\t\n",
      "Iters:  23 || training loss: 5.16558\tfair loss: 1.47167\tTrain RMSE: 0.20636 Valid RMSE: 0.28540\t\n",
      "Iters:  24 || training loss: 5.01683\tfair loss: 1.81689\tTrain RMSE: 0.20210 Valid RMSE: 0.28281\t\n",
      "Iters:  25 || training loss: 4.70839\tfair loss: 2.04380\tTrain RMSE: 0.19950 Valid RMSE: 0.28042\t\n",
      "Iters:  26 || training loss: 4.36586\tfair loss: 2.27676\tTrain RMSE: 0.18908 Valid RMSE: 0.28141\t\n",
      "Iters:  27 || training loss: 4.11771\tfair loss: 2.87388\tTrain RMSE: 0.17535 Valid RMSE: 0.27605\t\n",
      "Iters:  28 || training loss: 3.50858\tfair loss: 3.07429\tTrain RMSE: 0.16185 Valid RMSE: 0.27138\t\n",
      "Iters:  29 || training loss: 3.11408\tfair loss: 3.64765\tTrain RMSE: 0.15195 Valid RMSE: 0.26926\t\n",
      "Iters:  30 || training loss: 2.65340\tfair loss: 3.74000\tTrain RMSE: 0.14197 Valid RMSE: 0.26694\t\n",
      "Iters:  31 || training loss: 2.36793\tfair loss: 4.00573\tTrain RMSE: 0.13941 Valid RMSE: 0.26690\t\n",
      "Iters:  32 || training loss: 2.24920\tfair loss: 4.38271\tTrain RMSE: 0.14033 Valid RMSE: 0.26943\t\n",
      "Iters:  33 || training loss: 2.11776\tfair loss: 4.92499\tTrain RMSE: 0.13118 Valid RMSE: 0.26696\t\n",
      "Iters:  34 || training loss: 1.95042\tfair loss: 4.64901\tTrain RMSE: 0.12192 Valid RMSE: 0.26133\t\n",
      "Iters:  35 || training loss: 1.82206\tfair loss: 4.60467\tTrain RMSE: 0.12834 Valid RMSE: 0.26386\t\n",
      "Iters:  36 || training loss: 1.76389\tfair loss: 5.04860\tTrain RMSE: 0.12392 Valid RMSE: 0.26359\t\n",
      "Iters:  37 || training loss: 1.77487\tfair loss: 6.06982\tTrain RMSE: 0.11700 Valid RMSE: 0.25868\t\n",
      "Iters:  38 || training loss: 1.67675\tfair loss: 5.85374\tTrain RMSE: 0.11253 Valid RMSE: 0.25854\t\n",
      "Iters:  39 || training loss: 1.62872\tfair loss: 5.97191\tTrain RMSE: 0.11598 Valid RMSE: 0.26146\t\n",
      "Iters:  40 || training loss: 1.53112\tfair loss: 5.90738\tTrain RMSE: 0.10737 Valid RMSE: 0.25586\t\n",
      "Iters:  41 || training loss: 1.45526\tfair loss: 5.62188\tTrain RMSE: 0.10680 Valid RMSE: 0.25541\t\n",
      "Iters:  42 || training loss: 1.45268\tfair loss: 6.15267\tTrain RMSE: 0.10733 Valid RMSE: 0.25353\t\n",
      "Iters:  43 || training loss: 1.41159\tfair loss: 6.27620\tTrain RMSE: 0.10612 Valid RMSE: 0.25358\t\n",
      "Iters:  44 || training loss: 1.42473\tfair loss: 7.08603\tTrain RMSE: 0.10504 Valid RMSE: 0.25438\t\n",
      "Iters:  45 || training loss: 1.35253\tfair loss: 6.49493\tTrain RMSE: 0.10155 Valid RMSE: 0.25136\t\n",
      "Iters:  46 || training loss: 1.29966\tfair loss: 6.71375\tTrain RMSE: 0.09906 Valid RMSE: 0.25378\t\n",
      "Iters:  47 || training loss: 1.30492\tfair loss: 6.77098\tTrain RMSE: 0.10144 Valid RMSE: 0.25344\t\n",
      "Iters:  48 || training loss: 1.29004\tfair loss: 6.70958\tTrain RMSE: 0.10496 Valid RMSE: 0.25756\t\n",
      "Iters:  49 || training loss: 1.31006\tfair loss: 7.56630\tTrain RMSE: 0.09756 Valid RMSE: 0.25273\t\n",
      "Iters:  50 || training loss: 1.23368\tfair loss: 7.15824\tTrain RMSE: 0.09941 Valid RMSE: 0.25218\t\n",
      "Iters:  51 || training loss: 1.26412\tfair loss: 7.09280\tTrain RMSE: 0.10152 Valid RMSE: 0.25285\t\n",
      "Iters:  52 || training loss: 1.23059\tfair loss: 7.45676\tTrain RMSE: 0.09682 Valid RMSE: 0.25334\t\n",
      "Iters:  53 || training loss: 1.20690\tfair loss: 7.21346\tTrain RMSE: 0.09401 Valid RMSE: 0.24986\t\n",
      "Iters:  54 || training loss: 1.13915\tfair loss: 6.95199\tTrain RMSE: 0.09432 Valid RMSE: 0.25202\t\n",
      "Iters:  55 || training loss: 1.10679\tfair loss: 6.78339\tTrain RMSE: 0.09270 Valid RMSE: 0.24915\t\n",
      "Iters:  56 || training loss: 1.12283\tfair loss: 7.00794\tTrain RMSE: 0.09433 Valid RMSE: 0.25517\t\n",
      "Iters:  57 || training loss: 1.10076\tfair loss: 7.09826\tTrain RMSE: 0.09327 Valid RMSE: 0.25206\t\n",
      "Iters:  58 || training loss: 1.12933\tfair loss: 7.48912\tTrain RMSE: 0.10440 Valid RMSE: 0.25449\t\n",
      "Iters:  59 || training loss: 1.12335\tfair loss: 7.64849\tTrain RMSE: 0.08969 Valid RMSE: 0.25047\t\n",
      "Iters:  60 || training loss: 1.08150\tfair loss: 7.25814\tTrain RMSE: 0.08993 Valid RMSE: 0.25247\t\n",
      "Iters:  61 || training loss: 1.06891\tfair loss: 7.25834\tTrain RMSE: 0.08851 Valid RMSE: 0.25158\t\n",
      "Iters:  62 || training loss: 1.09012\tfair loss: 7.36490\tTrain RMSE: 0.09104 Valid RMSE: 0.25469\t\n",
      "Iters:  63 || training loss: 1.09564\tfair loss: 7.48580\tTrain RMSE: 0.08992 Valid RMSE: 0.25128\t\n",
      "Iters:  64 || training loss: 1.02965\tfair loss: 6.95678\tTrain RMSE: 0.10587 Valid RMSE: 0.25400\t\n",
      "Iters:  65 || training loss: 1.07619\tfair loss: 7.63003\tTrain RMSE: 0.08835 Valid RMSE: 0.24909\t\n",
      "Iters:  66 || training loss: 1.03996\tfair loss: 7.58731\tTrain RMSE: 0.08856 Valid RMSE: 0.25160\t\n",
      "Iters:  67 || training loss: 1.00774\tfair loss: 7.20750\tTrain RMSE: 0.09261 Valid RMSE: 0.25132\t\n",
      "Iters:  68 || training loss: 0.99846\tfair loss: 7.40537\tTrain RMSE: 0.09326 Valid RMSE: 0.24950\t\n",
      "Iters:  69 || training loss: 0.98610\tfair loss: 6.82441\tTrain RMSE: 0.08711 Valid RMSE: 0.25264\t\n",
      "Iters:  70 || training loss: 0.97372\tfair loss: 7.31954\tTrain RMSE: 0.09236 Valid RMSE: 0.24852\t\n",
      "Iters:  71 || training loss: 0.97606\tfair loss: 7.17620\tTrain RMSE: 0.08485 Valid RMSE: 0.25161\t\n",
      "Iters:  72 || training loss: 0.98397\tfair loss: 7.30527\tTrain RMSE: 0.08314 Valid RMSE: 0.25008\t\n",
      "Iters:  73 || training loss: 0.95484\tfair loss: 7.44395\tTrain RMSE: 0.08437 Valid RMSE: 0.25019\t\n"
     ]
    }
   ],
   "source": [
    "trainer = Trainer(model, tensor, cfg, wandb=None)\n",
    "trainer.train()"
   ]
  },
  {
   "cell_type": "markdown",
   "metadata": {},
   "source": [
    "### 5. Evaluate fairness and accuracy of model for tensor completion"
   ]
  },
  {
   "cell_type": "code",
   "execution_count": 8,
   "metadata": {},
   "outputs": [
    {
     "name": "stdout",
     "output_type": "stream",
     "text": [
      "Test NRE: 0.2717 Test RMSE: 0.2521\n",
      "***********************************************************************************\n",
      "Calculate group fairness...\n",
      "***********************************************************************************\n",
      "MSE : 0.0635\n",
      "MAD: 0.05190 Error1 : 0.04511 Error2: 0.09701\n"
     ]
    }
   ],
   "source": [
    "res = evaluate_model(model, tensor)\n",
    "print(f\"MSE : {res['test_rmse'] * res['test_rmse']:.4f}\")\n",
    "print(f\"MAD: {abs(res['MAD_Error']):.5f} Error1 : {res['Group0_Error']:.5f} Error2: {res['Group1_Error']:.5f}\")"
   ]
  },
  {
   "cell_type": "code",
   "execution_count": null,
   "metadata": {},
   "outputs": [],
   "source": []
  }
 ],
 "metadata": {
  "kernelspec": {
   "display_name": "tensor",
   "language": "python",
   "name": "python3"
  },
  "language_info": {
   "codemirror_mode": {
    "name": "ipython",
    "version": 3
   },
   "file_extension": ".py",
   "mimetype": "text/x-python",
   "name": "python",
   "nbconvert_exporter": "python",
   "pygments_lexer": "ipython3",
   "version": "3.9.19"
  }
 },
 "nbformat": 4,
 "nbformat_minor": 2
}
