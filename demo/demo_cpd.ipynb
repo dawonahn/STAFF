{
 "cells": [
  {
   "cell_type": "markdown",
   "metadata": {},
   "source": [
    "# CPD"
   ]
  },
  {
   "cell_type": "code",
   "execution_count": 1,
   "metadata": {},
   "outputs": [],
   "source": [
    "import sys\n",
    "sys.path.append('../src')\n",
    "from read import *\n",
    "from model import *\n",
    "from train import *\n",
    "from metric import *\n",
    "device = 'cuda:0'"
   ]
  },
  {
   "cell_type": "code",
   "execution_count": 2,
   "metadata": {},
   "outputs": [
    {
     "name": "stdout",
     "output_type": "stream",
     "text": [
      "***********************************************************************************\n",
      "[1] Read lastfm_time self...\n",
      "[2] Read metadata...\n",
      "[3] No normalization; values are already binary...\n",
      "[4] Split the tensor into training/validation/test\n",
      " [4 - 1] Sparsify the minority group to make it more unfair\n",
      "[5] Make statistics of group information\n",
      "[6] Change the date type into torch\n",
      "[7] Read lastfm_time tensor done...!\n",
      "Tensor      || ['user', 'artist', 'time']; value\n",
      "NNZ         || [861, 3066, 1586]; 76727 | 14311 | 14311\n",
      "Sens. Attr  || user, gender: maj(['M']) min(['F'])\n",
      "Entity      || Majority: 493 Minority: 368\n",
      "NNZ         || Majority: [74740] Minority: [1987]\n",
      "***********************************************************************************\n"
     ]
    }
   ],
   "source": [
    "data = 'lastfm_time'\n",
    "data_path = '../data'\n",
    "\n",
    "cfg = DotMap()\n",
    "cfg.name = data\n",
    "cfg.dpath = data_path\n",
    "cfg.opath = '../output'\n",
    "cfg.unfair = 0.05\n",
    "cfg.bs = 1024\n",
    "cfg.random = 1\n",
    "cfg.device = device\n",
    "tensor = TensorDataset(cfg=cfg, path=cfg.dpath, name=cfg.name)\n",
    "cfg.sizes = tensor.sizes"
   ]
  },
  {
   "cell_type": "code",
   "execution_count": 3,
   "metadata": {},
   "outputs": [],
   "source": [
    "cfg.rank = 10\n",
    "cfg.lr = 0.001\n",
    "cfg.wd = 0.001\n",
    "cfg.n_iters = 10000\n",
    "verbose = True\n",
    "tensor.load_data()"
   ]
  },
  {
   "cell_type": "code",
   "execution_count": 4,
   "metadata": {},
   "outputs": [
    {
     "data": {
      "text/plain": [
       "CPD(\n",
       "  (factors): ParameterList(\n",
       "      (0): Parameter containing: [torch.float32 of size 861x10 (GPU 0)]\n",
       "      (1): Parameter containing: [torch.float32 of size 3066x10 (GPU 0)]\n",
       "      (2): Parameter containing: [torch.float32 of size 1586x10 (GPU 0)]\n",
       "  )\n",
       ")"
      ]
     },
     "execution_count": 4,
     "metadata": {},
     "output_type": "execute_result"
    }
   ],
   "source": [
    "model = CPD(cfg).to(cfg.device)\n",
    "model"
   ]
  },
  {
   "cell_type": "code",
   "execution_count": 5,
   "metadata": {},
   "outputs": [
    {
     "name": "stdout",
     "output_type": "stream",
     "text": [
      "Iters:   1 || training loss: 25.18951\tTrain RMSE: 0.48776 Valid RMSE: 0.48770\t\n",
      "Iters:   2 || training loss: 15.87554\tTrain RMSE: 0.44483 Valid RMSE: 0.45532\t\n",
      "Iters:   3 || training loss: 15.30129\tTrain RMSE: 0.46173 Valid RMSE: 0.48883\t\n",
      "Iters:   4 || training loss: 17.20089\tTrain RMSE: 0.49595 Valid RMSE: 0.53718\t\n",
      "Iters:   5 || training loss: 19.91678\tTrain RMSE: 0.53354 Valid RMSE: 0.58439\t\n",
      "Iters:   6 || training loss: 22.90641\tTrain RMSE: 0.57020 Valid RMSE: 0.62676\t\n",
      "Iters:   7 || training loss: 25.94309\tTrain RMSE: 0.60451 Valid RMSE: 0.66375\t\n",
      "Iters:   8 || training loss: 28.91367\tTrain RMSE: 0.63588 Valid RMSE: 0.69568\t\n"
     ]
    }
   ],
   "source": [
    "trainer = Trainer(model, tensor, cfg, wandb=None)\n",
    "trainer.train()"
   ]
  },
  {
   "cell_type": "code",
   "execution_count": 6,
   "metadata": {},
   "outputs": [
    {
     "name": "stdout",
     "output_type": "stream",
     "text": [
      "Test NRE: 0.4927 Test RMSE: 0.4572\n",
      "***********************************************************************************\n",
      "Calculate group fairness...\n",
      "***********************************************************************************\n",
      "MSE : 0.2091\n",
      "MADE: 0.03280 Error1 : 0.19742 Error2: 0.23021\n"
     ]
    }
   ],
   "source": [
    "res = evaluate_model(model, tensor)\n",
    "print(f\"MSE : {res['test_rmse'] * res['test_rmse']:.4f}\")\n",
    "print(f\"MADE: {abs(res['MAD_Error']):.5f} Error1 : {res['Group0_Error']:.5f} Error2: {res['Group1_Error']:.5f}\")"
   ]
  },
  {
   "cell_type": "code",
   "execution_count": null,
   "metadata": {},
   "outputs": [],
   "source": []
  },
  {
   "cell_type": "code",
   "execution_count": null,
   "metadata": {},
   "outputs": [],
   "source": []
  }
 ],
 "metadata": {
  "kernelspec": {
   "display_name": "tensor",
   "language": "python",
   "name": "python3"
  },
  "language_info": {
   "codemirror_mode": {
    "name": "ipython",
    "version": 3
   },
   "file_extension": ".py",
   "mimetype": "text/x-python",
   "name": "python",
   "nbconvert_exporter": "python",
   "pygments_lexer": "ipython3",
   "version": "3.9.19"
  }
 },
 "nbformat": 4,
 "nbformat_minor": 2
}
