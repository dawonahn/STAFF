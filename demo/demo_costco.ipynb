{
 "cells": [
  {
   "cell_type": "markdown",
   "metadata": {},
   "source": [
    "# CoSTCo"
   ]
  },
  {
   "cell_type": "code",
   "execution_count": 1,
   "metadata": {},
   "outputs": [],
   "source": [
    "import sys\n",
    "sys.path.append('../src')\n",
    "from read import *\n",
    "from model import *\n",
    "from train import *\n",
    "from metric import *\n",
    "device = 'cuda:0'"
   ]
  },
  {
   "cell_type": "code",
   "execution_count": 2,
   "metadata": {},
   "outputs": [
    {
     "name": "stdout",
     "output_type": "stream",
     "text": [
      "***********************************************************************************\n",
      "[1] Read lastfm_time self...\n",
      "[2] Read metadata...\n",
      "[3] No normalization; values are already binary...\n",
      "[4] Split the tensor into training/validation/test\n",
      " [4 - 1] Sparsify the minority group to make it more unfair\n",
      "[5] Make statistics of group information\n",
      "[6] Change the date type into torch\n",
      "[7] Read lastfm_time tensor done...!\n",
      "Tensor      || ['user', 'artist', 'time']; value\n",
      "NNZ         || [861, 3066, 1586]; 76727 | 14311 | 14311\n",
      "Sens. Attr  || user, gender: maj(['M']) min(['F'])\n",
      "Entity      || Majority: 493 Minority: 368\n",
      "NNZ         || Majority: [74740] Minority: [1987]\n",
      "***********************************************************************************\n"
     ]
    }
   ],
   "source": [
    "data = 'lastfm_time'\n",
    "data_path = '../data'\n",
    "\n",
    "cfg = DotMap()\n",
    "cfg.name = data\n",
    "cfg.dpath = data_path\n",
    "cfg.rank = 10\n",
    "cfg.lr = 0.001\n",
    "cfg.wd = 0.001\n",
    "cfg.n_iters = 10000\n",
    "cfg.device = device\n",
    "cfg.unfair = 0.05\n",
    "cfg.random = 1\n",
    "cfg.bs = 1024\n",
    "\n",
    "verbose = True\n",
    "\n",
    "tensor = TensorDataset(cfg=cfg, path=cfg.dpath, name=cfg.name)\n",
    "cfg.sizes = tensor.sizes"
   ]
  },
  {
   "cell_type": "code",
   "execution_count": 3,
   "metadata": {},
   "outputs": [],
   "source": [
    "# cfg.aug_tf = 'costco'\n",
    "cfg.opath = '../output'\n",
    "cfg.tf = 'costco'\n",
    "tensor.load_data()"
   ]
  },
  {
   "cell_type": "code",
   "execution_count": 4,
   "metadata": {},
   "outputs": [
    {
     "data": {
      "text/plain": [
       "CoSTCo(\n",
       "  (factors): ParameterList(\n",
       "      (0): Parameter containing: [torch.float32 of size 861x10 (GPU 0)]\n",
       "      (1): Parameter containing: [torch.float32 of size 3066x10 (GPU 0)]\n",
       "      (2): Parameter containing: [torch.float32 of size 1586x10 (GPU 0)]\n",
       "  )\n",
       "  (conv1): Conv2d(1, 64, kernel_size=(1, 3), stride=(1, 1))\n",
       "  (conv2): Conv2d(64, 64, kernel_size=(10, 1), stride=(1, 1))\n",
       "  (fc1): Linear(in_features=64, out_features=64, bias=True)\n",
       "  (fc2): Linear(in_features=64, out_features=1, bias=True)\n",
       "  (relu): ReLU()\n",
       "  (sigmoid): Sigmoid()\n",
       "  (last_act): ReLU()\n",
       ")"
      ]
     },
     "execution_count": 4,
     "metadata": {},
     "output_type": "execute_result"
    }
   ],
   "source": [
    "cfg.nc = 64\n",
    "model = CoSTCo(cfg).to(cfg.device)\n",
    "model"
   ]
  },
  {
   "cell_type": "code",
   "execution_count": 5,
   "metadata": {},
   "outputs": [
    {
     "name": "stdout",
     "output_type": "stream",
     "text": [
      "Iters:   1 || training loss: 11.61615\tTrain RMSE: 0.34184 Valid RMSE: 0.34332\t\n",
      "Iters:   2 || training loss: 8.72497\tTrain RMSE: 0.34067 Valid RMSE: 0.34212\t\n",
      "Iters:   3 || training loss: 8.66418\tTrain RMSE: 0.33902 Valid RMSE: 0.34050\t\n",
      "Iters:   4 || training loss: 8.58709\tTrain RMSE: 0.33744 Valid RMSE: 0.33891\t\n",
      "Iters:   5 || training loss: 8.48847\tTrain RMSE: 0.33498 Valid RMSE: 0.33645\t\n",
      "Iters:   6 || training loss: 8.34956\tTrain RMSE: 0.33183 Valid RMSE: 0.33341\t\n",
      "Iters:   7 || training loss: 8.15419\tTrain RMSE: 0.32816 Valid RMSE: 0.33003\t\n",
      "Iters:   8 || training loss: 7.85200\tTrain RMSE: 0.31796 Valid RMSE: 0.32087\t\n",
      "Iters:   9 || training loss: 7.33020\tTrain RMSE: 0.30309 Valid RMSE: 0.30968\t\n",
      "Iters:  10 || training loss: 6.60991\tTrain RMSE: 0.28275 Valid RMSE: 0.29829\t\n",
      "Iters:  11 || training loss: 5.88734\tTrain RMSE: 0.26382 Valid RMSE: 0.29271\t\n",
      "Iters:  12 || training loss: 5.22789\tTrain RMSE: 0.25219 Valid RMSE: 0.28719\t\n",
      "Iters:  13 || training loss: 4.85484\tTrain RMSE: 0.24409 Valid RMSE: 0.28955\t\n",
      "Iters:  14 || training loss: 4.66265\tTrain RMSE: 0.23856 Valid RMSE: 0.28734\t\n",
      "Iters:  15 || training loss: 4.45178\tTrain RMSE: 0.22736 Valid RMSE: 0.27847\t\n",
      "Iters:  16 || training loss: 4.15364\tTrain RMSE: 0.21800 Valid RMSE: 0.27672\t\n",
      "Iters:  17 || training loss: 3.95042\tTrain RMSE: 0.21346 Valid RMSE: 0.27311\t\n",
      "Iters:  18 || training loss: 3.67459\tTrain RMSE: 0.20631 Valid RMSE: 0.27725\t\n",
      "Iters:  19 || training loss: 3.53424\tTrain RMSE: 0.20440 Valid RMSE: 0.27490\t\n",
      "Iters:  20 || training loss: 3.35599\tTrain RMSE: 0.19349 Valid RMSE: 0.27360\t\n",
      "Iters:  21 || training loss: 3.12591\tTrain RMSE: 0.18950 Valid RMSE: 0.27538\t\n",
      "Iters:  22 || training loss: 2.93365\tTrain RMSE: 0.18563 Valid RMSE: 0.27678\t\n",
      "Iters:  23 || training loss: 2.79832\tTrain RMSE: 0.17587 Valid RMSE: 0.27554\t\n",
      "Iters:  24 || training loss: 2.57471\tTrain RMSE: 0.16697 Valid RMSE: 0.27440\t\n",
      "Iters:  25 || training loss: 2.32019\tTrain RMSE: 0.15836 Valid RMSE: 0.27087\t\n",
      "Iters:  26 || training loss: 2.13838\tTrain RMSE: 0.16470 Valid RMSE: 0.27858\t\n",
      "Iters:  27 || training loss: 1.98372\tTrain RMSE: 0.14889 Valid RMSE: 0.27107\t\n",
      "Iters:  28 || training loss: 1.86320\tTrain RMSE: 0.14643 Valid RMSE: 0.26975\t\n",
      "Iters:  29 || training loss: 1.76474\tTrain RMSE: 0.14010 Valid RMSE: 0.26917\t\n",
      "Iters:  30 || training loss: 1.65616\tTrain RMSE: 0.13630 Valid RMSE: 0.26980\t\n",
      "Iters:  31 || training loss: 1.55542\tTrain RMSE: 0.13455 Valid RMSE: 0.26869\t\n",
      "Iters:  32 || training loss: 1.48203\tTrain RMSE: 0.13138 Valid RMSE: 0.26914\t\n",
      "Iters:  33 || training loss: 1.44636\tTrain RMSE: 0.12820 Valid RMSE: 0.26857\t\n",
      "Iters:  34 || training loss: 1.36851\tTrain RMSE: 0.12585 Valid RMSE: 0.26650\t\n",
      "Iters:  35 || training loss: 1.36494\tTrain RMSE: 0.12877 Valid RMSE: 0.27159\t\n",
      "Iters:  36 || training loss: 1.34165\tTrain RMSE: 0.12461 Valid RMSE: 0.26731\t\n",
      "Iters:  37 || training loss: 1.27250\tTrain RMSE: 0.12016 Valid RMSE: 0.26644\t\n",
      "Iters:  38 || training loss: 1.21888\tTrain RMSE: 0.12047 Valid RMSE: 0.26869\t\n",
      "Iters:  39 || training loss: 1.20552\tTrain RMSE: 0.11695 Valid RMSE: 0.26381\t\n",
      "Iters:  40 || training loss: 1.16205\tTrain RMSE: 0.11475 Valid RMSE: 0.26572\t\n",
      "Iters:  41 || training loss: 1.11783\tTrain RMSE: 0.11644 Valid RMSE: 0.26285\t\n",
      "Iters:  42 || training loss: 1.10473\tTrain RMSE: 0.11686 Valid RMSE: 0.26558\t\n",
      "Iters:  43 || training loss: 1.12641\tTrain RMSE: 0.11433 Valid RMSE: 0.26568\t\n",
      "Iters:  44 || training loss: 1.10386\tTrain RMSE: 0.11073 Valid RMSE: 0.26654\t\n",
      "Iters:  45 || training loss: 1.03745\tTrain RMSE: 0.11199 Valid RMSE: 0.26503\t\n",
      "Iters:  46 || training loss: 1.02053\tTrain RMSE: 0.10974 Valid RMSE: 0.26561\t\n",
      "Iters:  47 || training loss: 1.00362\tTrain RMSE: 0.10773 Valid RMSE: 0.26384\t\n",
      "Iters:  48 || training loss: 0.96865\tTrain RMSE: 0.10569 Valid RMSE: 0.26408\t\n",
      "Iters:  49 || training loss: 0.99956\tTrain RMSE: 0.10742 Valid RMSE: 0.26401\t\n",
      "Iters:  50 || training loss: 0.94820\tTrain RMSE: 0.10316 Valid RMSE: 0.26305\t\n",
      "Iters:  51 || training loss: 0.92143\tTrain RMSE: 0.10393 Valid RMSE: 0.26513\t\n",
      "Iters:  52 || training loss: 0.92549\tTrain RMSE: 0.10983 Valid RMSE: 0.27183\t\n",
      "Iters:  53 || training loss: 0.91471\tTrain RMSE: 0.10124 Valid RMSE: 0.26597\t\n",
      "Iters:  54 || training loss: 0.87562\tTrain RMSE: 0.09842 Valid RMSE: 0.26512\t\n",
      "Iters:  55 || training loss: 0.84653\tTrain RMSE: 0.09700 Valid RMSE: 0.26311\t\n",
      "Iters:  56 || training loss: 0.83880\tTrain RMSE: 0.09836 Valid RMSE: 0.26629\t\n",
      "Iters:  57 || training loss: 0.81369\tTrain RMSE: 0.09714 Valid RMSE: 0.26475\t\n",
      "Iters:  58 || training loss: 0.80305\tTrain RMSE: 0.09506 Valid RMSE: 0.26338\t\n",
      "Iters:  59 || training loss: 0.79893\tTrain RMSE: 0.09494 Valid RMSE: 0.26275\t\n",
      "Iters:  60 || training loss: 0.80362\tTrain RMSE: 0.09536 Valid RMSE: 0.26475\t\n",
      "Iters:  61 || training loss: 0.83950\tTrain RMSE: 0.09576 Valid RMSE: 0.26971\t\n",
      "Iters:  62 || training loss: 0.80041\tTrain RMSE: 0.09275 Valid RMSE: 0.26425\t\n",
      "Iters:  63 || training loss: 0.74791\tTrain RMSE: 0.09134 Valid RMSE: 0.26422\t\n",
      "Iters:  64 || training loss: 0.73938\tTrain RMSE: 0.10106 Valid RMSE: 0.26661\t\n",
      "Iters:  65 || training loss: 0.75958\tTrain RMSE: 0.09224 Valid RMSE: 0.26397\t\n",
      "Iters:  66 || training loss: 0.73757\tTrain RMSE: 0.08998 Valid RMSE: 0.26410\t\n",
      "Iters:  67 || training loss: 0.70627\tTrain RMSE: 0.08997 Valid RMSE: 0.26402\t\n",
      "Iters:  68 || training loss: 0.69680\tTrain RMSE: 0.08813 Valid RMSE: 0.26017\t\n",
      "Iters:  69 || training loss: 0.68490\tTrain RMSE: 0.08793 Valid RMSE: 0.26315\t\n",
      "Iters:  70 || training loss: 0.68103\tTrain RMSE: 0.08756 Valid RMSE: 0.26364\t\n",
      "Iters:  71 || training loss: 0.69030\tTrain RMSE: 0.09348 Valid RMSE: 0.26506\t\n",
      "Iters:  72 || training loss: 0.71745\tTrain RMSE: 0.08984 Valid RMSE: 0.26420\t\n",
      "Iters:  73 || training loss: 0.70020\tTrain RMSE: 0.08988 Valid RMSE: 0.26297\t\n",
      "Iters:  74 || training loss: 0.67564\tTrain RMSE: 0.08650 Valid RMSE: 0.26290\t\n",
      "Iters:  75 || training loss: 0.67209\tTrain RMSE: 0.09295 Valid RMSE: 0.26371\t\n"
     ]
    }
   ],
   "source": [
    "trainer = Trainer(model, tensor, cfg, wandb=None)\n",
    "trainer.train()"
   ]
  },
  {
   "cell_type": "code",
   "execution_count": 6,
   "metadata": {},
   "outputs": [
    {
     "name": "stdout",
     "output_type": "stream",
     "text": [
      "Test NRE: 0.2784 Test RMSE: 0.2583\n",
      "***********************************************************************************\n",
      "Calculate group fairness...\n",
      "***********************************************************************************\n",
      "MSE : 0.0667\n",
      "MADE: 0.05433 Error1 : 0.04742 Error2: 0.10175\n"
     ]
    }
   ],
   "source": [
    "res = evaluate_model(model, tensor)\n",
    "print(f\"MSE : {res['test_rmse'] * res['test_rmse']:.4f}\")\n",
    "print(f\"MADE: {abs(res['MAD_Error']):.5f} Error1 : {res['Group0_Error']:.5f} Error2: {res['Group1_Error']:.5f}\")"
   ]
  },
  {
   "cell_type": "code",
   "execution_count": null,
   "metadata": {},
   "outputs": [],
   "source": []
  }
 ],
 "metadata": {
  "kernelspec": {
   "display_name": "tensor",
   "language": "python",
   "name": "python3"
  },
  "language_info": {
   "codemirror_mode": {
    "name": "ipython",
    "version": 3
   },
   "file_extension": ".py",
   "mimetype": "text/x-python",
   "name": "python",
   "nbconvert_exporter": "python",
   "pygments_lexer": "ipython3",
   "version": "3.9.19"
  }
 },
 "nbformat": 4,
 "nbformat_minor": 2
}
